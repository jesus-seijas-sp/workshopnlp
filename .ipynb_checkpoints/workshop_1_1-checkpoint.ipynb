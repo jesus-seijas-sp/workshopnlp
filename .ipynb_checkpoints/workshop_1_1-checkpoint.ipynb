{
 "cells": [
  {
   "cell_type": "markdown",
   "id": "2f4f9cdd",
   "metadata": {},
   "source": [
    "# Workshop 1.1: 🤗 Transformers"
   ]
  },
  {
   "cell_type": "markdown",
   "id": "fc60b378",
   "metadata": {},
   "source": [
    "## Setup"
   ]
  },
  {
   "cell_type": "code",
   "execution_count": null,
   "id": "a08e4a51",
   "metadata": {},
   "outputs": [],
   "source": [
    "!pip install transformers\n",
    "!pip install sentencepiece"
   ]
  },
  {
   "cell_type": "code",
   "execution_count": null,
   "id": "9601b419",
   "metadata": {},
   "outputs": [],
   "source": [
    "from transformers import pipeline\n",
    "import textwrap\n",
    "import pprint"
   ]
  },
  {
   "cell_type": "code",
   "execution_count": null,
   "id": "414dd61a",
   "metadata": {},
   "outputs": [],
   "source": [
    "wrapper = textwrap.TextWrapper(width=80, break_long_words=False, break_on_hyphens=False)"
   ]
  },
  {
   "cell_type": "code",
   "execution_count": null,
   "id": "f3728409",
   "metadata": {},
   "outputs": [],
   "source": [
    "text = \"\"\"Arinobu Fukuhara, former head pharmacist to the Imperial Japanese Navy, established the Shiseido Pharmacy in 1872. After a visit to the United States and Europe, Arinobu added a soda fountain to the store. This later grew into the Shiseido Parlor restaurant business, and eventually led to the introduction of ice cream in Japan. The name Shiseido derives from a Chinese expression meaning \"praise the virtues of the earth which nurtures new life and brings forth significant values\".\n",
    "Arinobu passed on his company to his son, Shinzo Fukuhara, who became the company's second president in 1913. After Shinzo's experience traveling to Europe and the United States, he became interested in advertising as a large selling point for Shiseido which lead him to dedicate extensive resources to the company's design, much of which can be been from product packaging and magazines from this time.\n",
    "\"\"\""
   ]
  },
  {
   "cell_type": "code",
   "execution_count": null,
   "id": "02e7d4ae",
   "metadata": {},
   "outputs": [],
   "source": [
    "print(wrapper.fill(text))"
   ]
  },
  {
   "cell_type": "code",
   "execution_count": null,
   "id": "6e0c3ff7",
   "metadata": {},
   "outputs": [],
   "source": [
    "# Sentiment analysis"
   ]
  },
  {
   "cell_type": "code",
   "execution_count": null,
   "id": "8e2f1379",
   "metadata": {},
   "outputs": [],
   "source": [
    "# Sentiment analysis 3 sentences, in the third use \"I don't hate...\""
   ]
  },
  {
   "cell_type": "code",
   "execution_count": null,
   "id": "a17fe9cc",
   "metadata": {},
   "outputs": [],
   "source": [
    "# Named Entity Recognition (aggregation_strategy = \"simple\")"
   ]
  },
  {
   "cell_type": "code",
   "execution_count": null,
   "id": "9a0550ad",
   "metadata": {},
   "outputs": [],
   "source": [
    "# Beautify response"
   ]
  },
  {
   "cell_type": "code",
   "execution_count": null,
   "id": "178b5f27",
   "metadata": {},
   "outputs": [],
   "source": [
    "# Question answering"
   ]
  },
  {
   "cell_type": "code",
   "execution_count": null,
   "id": "4c71c2df",
   "metadata": {},
   "outputs": [],
   "source": [
    "# Summarization"
   ]
  },
  {
   "cell_type": "code",
   "execution_count": null,
   "id": "bba18e8f",
   "metadata": {},
   "outputs": [],
   "source": [
    "# Translation english to japanese, model = \"Helsinki-NLP/opus-mt-en-jap\""
   ]
  },
  {
   "cell_type": "code",
   "execution_count": null,
   "id": "e1511bcb",
   "metadata": {},
   "outputs": [],
   "source": [
    "# Translation english to spanish, model = \"Helsinki-NLP/opus-mt-en-es\""
   ]
  }
 ],
 "metadata": {
  "kernelspec": {
   "display_name": "Python 3 (ipykernel)",
   "language": "python",
   "name": "python3"
  },
  "language_info": {
   "codemirror_mode": {
    "name": "ipython",
    "version": 3
   },
   "file_extension": ".py",
   "mimetype": "text/x-python",
   "name": "python",
   "nbconvert_exporter": "python",
   "pygments_lexer": "ipython3",
   "version": "3.9.12"
  }
 },
 "nbformat": 4,
 "nbformat_minor": 5
}
