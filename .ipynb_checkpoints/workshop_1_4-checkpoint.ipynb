{
 "cells": [
  {
   "cell_type": "code",
   "execution_count": null,
   "id": "6fc4449f",
   "metadata": {},
   "outputs": [],
   "source": [
    "!pip install -U openai-whisper\n",
    "!pip install gradio"
   ]
  },
  {
   "cell_type": "code",
   "execution_count": null,
   "id": "1346ba6f",
   "metadata": {},
   "outputs": [],
   "source": [
    "import whisper\n",
    "import IPython\n",
    "import gradio as gr \n",
    "import time"
   ]
  },
  {
   "cell_type": "code",
   "execution_count": null,
   "id": "f02312a8",
   "metadata": {},
   "outputs": [],
   "source": [
    "audio_path = \"https://github.com/jesus-seijas-sp/workshopnlp/raw/main/data/audio01.mp3\""
   ]
  },
  {
   "cell_type": "code",
   "execution_count": null,
   "id": "8d19ffc9",
   "metadata": {},
   "outputs": [],
   "source": [
    "# load model"
   ]
  },
  {
   "cell_type": "code",
   "execution_count": null,
   "id": "438ab15e",
   "metadata": {},
   "outputs": [],
   "source": [
    "# display audio"
   ]
  },
  {
   "cell_type": "code",
   "execution_count": null,
   "id": "f7a04f00",
   "metadata": {},
   "outputs": [],
   "source": [
    "# laod audio\n",
    "# trim audio"
   ]
  },
  {
   "cell_type": "code",
   "execution_count": null,
   "id": "fb29c71a",
   "metadata": {},
   "outputs": [],
   "source": [
    "# create mel spectrogram"
   ]
  },
  {
   "cell_type": "code",
   "execution_count": null,
   "id": "6bc0be0e",
   "metadata": {},
   "outputs": [],
   "source": [
    "# Detect language"
   ]
  },
  {
   "cell_type": "code",
   "execution_count": null,
   "id": "948c3435",
   "metadata": {},
   "outputs": [],
   "source": [
    "# decode (fp16 = False)"
   ]
  },
  {
   "cell_type": "code",
   "execution_count": null,
   "id": "20333065",
   "metadata": {},
   "outputs": [],
   "source": [
    "# create a function to transcribe"
   ]
  },
  {
   "cell_type": "code",
   "execution_count": null,
   "id": "760ee268",
   "metadata": {},
   "outputs": [],
   "source": [
    "# Create a gradio interface"
   ]
  }
 ],
 "metadata": {
  "kernelspec": {
   "display_name": "Python 3 (ipykernel)",
   "language": "python",
   "name": "python3"
  },
  "language_info": {
   "codemirror_mode": {
    "name": "ipython",
    "version": 3
   },
   "file_extension": ".py",
   "mimetype": "text/x-python",
   "name": "python",
   "nbconvert_exporter": "python",
   "pygments_lexer": "ipython3",
   "version": "3.9.12"
  }
 },
 "nbformat": 4,
 "nbformat_minor": 5
}
