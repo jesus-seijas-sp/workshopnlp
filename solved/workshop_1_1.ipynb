{
 "cells": [
  {
   "cell_type": "markdown",
   "id": "2f4f9cdd",
   "metadata": {},
   "source": [
    "# Workshop 1.1: 🤗 Transformers"
   ]
  },
  {
   "cell_type": "markdown",
   "id": "fc60b378",
   "metadata": {},
   "source": [
    "## Setup"
   ]
  },
  {
   "cell_type": "code",
   "execution_count": null,
   "id": "a08e4a51",
   "metadata": {},
   "outputs": [],
   "source": [
    "!pip install transformers\n",
    "!pip install sentencepiece"
   ]
  },
  {
   "cell_type": "code",
   "execution_count": 1,
   "id": "9601b419",
   "metadata": {},
   "outputs": [],
   "source": [
    "from transformers import pipeline\n",
    "import textwrap\n",
    "import pprint"
   ]
  },
  {
   "cell_type": "code",
   "execution_count": 2,
   "id": "414dd61a",
   "metadata": {},
   "outputs": [],
   "source": [
    "wrapper = textwrap.TextWrapper(width=80, break_long_words=False, break_on_hyphens=False)"
   ]
  },
  {
   "cell_type": "code",
   "execution_count": 3,
   "id": "f3728409",
   "metadata": {},
   "outputs": [],
   "source": [
    "text = \"\"\"Arinobu Fukuhara, former head pharmacist to the Imperial Japanese Navy, established the Shiseido Pharmacy in 1872. After a visit to the United States and Europe, Arinobu added a soda fountain to the store. This later grew into the Shiseido Parlor restaurant business, and eventually led to the introduction of ice cream in Japan. The name Shiseido derives from a Chinese expression meaning \"praise the virtues of the earth which nurtures new life and brings forth significant values\".\n",
    "Arinobu passed on his company to his son, Shinzo Fukuhara, who became the company's second president in 1913. After Shinzo's experience traveling to Europe and the United States, he became interested in advertising as a large selling point for Shiseido which lead him to dedicate extensive resources to the company's design, much of which can be been from product packaging and magazines from this time.\n",
    "\"\"\""
   ]
  },
  {
   "cell_type": "code",
   "execution_count": 4,
   "id": "02e7d4ae",
   "metadata": {},
   "outputs": [
    {
     "name": "stdout",
     "output_type": "stream",
     "text": [
      "Arinobu Fukuhara, former head pharmacist to the Imperial Japanese Navy,\n",
      "established the Shiseido Pharmacy in 1872. After a visit to the United States\n",
      "and Europe, Arinobu added a soda fountain to the store. This later grew into the\n",
      "Shiseido Parlor restaurant business, and eventually led to the introduction of\n",
      "ice cream in Japan. The name Shiseido derives from a Chinese expression meaning\n",
      "\"praise the virtues of the earth which nurtures new life and brings forth\n",
      "significant values\". Arinobu passed on his company to his son, Shinzo Fukuhara,\n",
      "who became the company's second president in 1913. After Shinzo's experience\n",
      "traveling to Europe and the United States, he became interested in advertising\n",
      "as a large selling point for Shiseido which lead him to dedicate extensive\n",
      "resources to the company's design, much of which can be been from product\n",
      "packaging and magazines from this time.\n"
     ]
    }
   ],
   "source": [
    "print(wrapper.fill(text))"
   ]
  },
  {
   "cell_type": "markdown",
   "id": "5a1d8367",
   "metadata": {},
   "source": [
    "## Sentiment Analysis\n",
    "\n",
    "One of the most common tasks in NLP and especially when dealing with customer texts is sentiment analysis. We would like to know if a customer is satisfied with a service or product and potentially aggregate the feedback across all customers for reporting.\n",
    "\n",
    "![image.png](data/img01.png)"
   ]
  },
  {
   "cell_type": "code",
   "execution_count": 5,
   "id": "6e0c3ff7",
   "metadata": {},
   "outputs": [
    {
     "name": "stderr",
     "output_type": "stream",
     "text": [
      "No model was supplied, defaulted to distilbert-base-uncased-finetuned-sst-2-english and revision af0f99b (https://huggingface.co/distilbert-base-uncased-finetuned-sst-2-english).\n",
      "Using a pipeline without specifying a model name and revision in production is not recommended.\n"
     ]
    },
    {
     "data": {
      "text/plain": [
       "[{'label': 'POSITIVE', 'score': 0.9875435829162598}]"
      ]
     },
     "execution_count": 5,
     "metadata": {},
     "output_type": "execute_result"
    }
   ],
   "source": [
    "sentiment_pipeline = pipeline('sentiment-analysis')\n",
    "sentiment_pipeline(text)"
   ]
  },
  {
   "cell_type": "code",
   "execution_count": 7,
   "id": "8e2f1379",
   "metadata": {},
   "outputs": [
    {
     "data": {
      "text/plain": [
       "[{'label': 'NEGATIVE', 'score': 0.9934830069541931},\n",
       " {'label': 'POSITIVE', 'score': 0.999713122844696},\n",
       " {'label': 'POSITIVE', 'score': 0.9982847571372986}]"
      ]
     },
     "execution_count": 7,
     "metadata": {},
     "output_type": "execute_result"
    }
   ],
   "source": [
    "sentiment_pipeline([\"I don't like cats\", \"I love dogs\", \"I don't hate cats\"])"
   ]
  },
  {
   "cell_type": "markdown",
   "id": "8f26b1d9",
   "metadata": {},
   "source": [
    "## NER (Named Entity Recognition)\n",
    "\n",
    "Let's see if we can extract named entities such as organizations, locations, or individuals from the text. This task is called named entity recognition (NER). Instead of predicting just a class for the whole text a class is predicted for each token, thus this task belongs to the category of token classification.\n",
    "We just load a pipeline for the NER task without specifying a model. This will load a default BERT model that has been trained on the CoNLL-2003.\n",
    "![image.png](./data/img02.png)"
   ]
  },
  {
   "cell_type": "markdown",
   "id": "bb86b53e",
   "metadata": {},
   "source": [
    "###### ner_pipeline = pipeline('ner')\n",
    "entities = ner_pipeline(text)\n",
    "pprint.pprint(entities)"
   ]
  },
  {
   "cell_type": "code",
   "execution_count": 9,
   "id": "a17fe9cc",
   "metadata": {},
   "outputs": [
    {
     "name": "stdout",
     "output_type": "stream",
     "text": [
      "[{'end': 16,\n",
      "  'entity_group': 'PER',\n",
      "  'score': 0.99697655,\n",
      "  'start': 0,\n",
      "  'word': 'Arinobu Fukuhara'},\n",
      " {'end': 70,\n",
      "  'entity_group': 'ORG',\n",
      "  'score': 0.97540313,\n",
      "  'start': 48,\n",
      "  'word': 'Imperial Japanese Navy'},\n",
      " {'end': 105,\n",
      "  'entity_group': 'ORG',\n",
      "  'score': 0.98787105,\n",
      "  'start': 88,\n",
      "  'word': 'Shiseido Pharmacy'},\n",
      " {'end': 149,\n",
      "  'entity_group': 'LOC',\n",
      "  'score': 0.9996923,\n",
      "  'start': 136,\n",
      "  'word': 'United States'},\n",
      " {'end': 160,\n",
      "  'entity_group': 'LOC',\n",
      "  'score': 0.9997867,\n",
      "  'start': 154,\n",
      "  'word': 'Europe'},\n",
      " {'end': 169,\n",
      "  'entity_group': 'PER',\n",
      "  'score': 0.8817951,\n",
      "  'start': 162,\n",
      "  'word': 'Arinobu'},\n",
      " {'end': 246,\n",
      "  'entity_group': 'ORG',\n",
      "  'score': 0.9673276,\n",
      "  'start': 231,\n",
      "  'word': 'Shiseido Parlor'},\n",
      " {'end': 328,\n",
      "  'entity_group': 'LOC',\n",
      "  'score': 0.9992105,\n",
      "  'start': 323,\n",
      "  'word': 'Japan'},\n",
      " {'end': 347,\n",
      "  'entity_group': 'ORG',\n",
      "  'score': 0.9342818,\n",
      "  'start': 339,\n",
      "  'word': 'Shiseido'},\n",
      " {'end': 370,\n",
      "  'entity_group': 'MISC',\n",
      "  'score': 0.9961182,\n",
      "  'start': 363,\n",
      "  'word': 'Chinese'},\n",
      " {'end': 492,\n",
      "  'entity_group': 'PER',\n",
      "  'score': 0.97593933,\n",
      "  'start': 485,\n",
      "  'word': 'Arinobu'},\n",
      " {'end': 542,\n",
      "  'entity_group': 'PER',\n",
      "  'score': 0.9912737,\n",
      "  'start': 527,\n",
      "  'word': 'Shinzo Fukuhara'},\n",
      " {'end': 607,\n",
      "  'entity_group': 'PER',\n",
      "  'score': 0.9985279,\n",
      "  'start': 601,\n",
      "  'word': 'Shinzo'},\n",
      " {'end': 640,\n",
      "  'entity_group': 'LOC',\n",
      "  'score': 0.9997123,\n",
      "  'start': 634,\n",
      "  'word': 'Europe'},\n",
      " {'end': 662,\n",
      "  'entity_group': 'LOC',\n",
      "  'score': 0.9996201,\n",
      "  'start': 649,\n",
      "  'word': 'United States'},\n",
      " {'end': 737,\n",
      "  'entity_group': 'ORG',\n",
      "  'score': 0.9693387,\n",
      "  'start': 729,\n",
      "  'word': 'Shiseido'}]\n"
     ]
    }
   ],
   "source": [
    "ner_pipeline = pipeline('ner')\n",
    "entities = ner_pipeline(text, aggregation_strategy=\"simple\")\n",
    "pprint.pprint(entities)"
   ]
  },
  {
   "cell_type": "code",
   "execution_count": 10,
   "id": "9a0550ad",
   "metadata": {},
   "outputs": [
    {
     "name": "stdout",
     "output_type": "stream",
     "text": [
      "Arinobu Fukuhara: PER (1.00)\n",
      "Imperial Japanese Navy: ORG (0.98)\n",
      "Shiseido Pharmacy: ORG (0.99)\n",
      "United States: LOC (1.00)\n",
      "Europe: LOC (1.00)\n",
      "Arinobu: PER (0.88)\n",
      "Shiseido Parlor: ORG (0.97)\n",
      "Japan: LOC (1.00)\n",
      "Shiseido: ORG (0.93)\n",
      "Chinese: MISC (1.00)\n",
      "Arinobu: PER (0.98)\n",
      "Shinzo Fukuhara: PER (0.99)\n",
      "Shinzo: PER (1.00)\n",
      "Europe: LOC (1.00)\n",
      "United States: LOC (1.00)\n",
      "Shiseido: ORG (0.97)\n"
     ]
    }
   ],
   "source": [
    "for entity in entities:\n",
    "    print(f\"{entity['word']}: {entity['entity_group']} ({entity['score']:.2f})\")"
   ]
  },
  {
   "cell_type": "markdown",
   "id": "3ef7584c",
   "metadata": {},
   "source": [
    "## Question Answering\n",
    "![image-4.png](./data/img03.png)\n",
    "![image.png](./data/img04.png)\n",
    "![image-2.png](./data/img05.png)\n",
    "![image-3.png](./data/img06.png)"
   ]
  },
  {
   "cell_type": "code",
   "execution_count": 11,
   "id": "178b5f27",
   "metadata": {},
   "outputs": [
    {
     "name": "stderr",
     "output_type": "stream",
     "text": [
      "No model was supplied, defaulted to distilbert-base-cased-distilled-squad and revision 626af31 (https://huggingface.co/distilbert-base-cased-distilled-squad).\n",
      "Using a pipeline without specifying a model name and revision in production is not recommended.\n"
     ]
    },
    {
     "data": {
      "text/plain": [
       "{'score': 0.9900085926055908, 'start': 109, 'end': 113, 'answer': '1872'}"
      ]
     },
     "execution_count": 11,
     "metadata": {},
     "output_type": "execute_result"
    }
   ],
   "source": [
    "qa_pipeline = pipeline(\"question-answering\")\n",
    "question = \"When was Shiseido founded?\"\n",
    "\n",
    "outputs = qa_pipeline(question=question, context=text)\n",
    "outputs"
   ]
  },
  {
   "cell_type": "markdown",
   "id": "69d1d44b",
   "metadata": {},
   "source": [
    "## Summarization\n",
    "\n",
    "![image.png](./data/img07.png)"
   ]
  },
  {
   "cell_type": "code",
   "execution_count": 12,
   "id": "4c71c2df",
   "metadata": {},
   "outputs": [
    {
     "name": "stderr",
     "output_type": "stream",
     "text": [
      "No model was supplied, defaulted to sshleifer/distilbart-cnn-12-6 and revision a4f8f3e (https://huggingface.co/sshleifer/distilbart-cnn-12-6).\n",
      "Using a pipeline without specifying a model name and revision in production is not recommended.\n"
     ]
    },
    {
     "name": "stdout",
     "output_type": "stream",
     "text": [
      " Arinobu Fukuhara, former head pharmacist to the Imperial Japanese Navy,\n",
      "established the Shiseido Pharmacy in 1872. His son, Shinzo, became the company's\n",
      "second president in 1913. He became interested in advertising as a large selling\n",
      "point for the company.\n"
     ]
    }
   ],
   "source": [
    "summarization_pipeline = pipeline(\"summarization\")\n",
    "outputs = summarization_pipeline(text, max_length=60, clean_up_tokenization_spaces=True)\n",
    "print(wrapper.fill(outputs[0]['summary_text']))"
   ]
  },
  {
   "cell_type": "markdown",
   "id": "a27700a5",
   "metadata": {},
   "source": [
    "## Translation\n"
   ]
  },
  {
   "cell_type": "code",
   "execution_count": 13,
   "id": "bba18e8f",
   "metadata": {},
   "outputs": [
    {
     "name": "stderr",
     "output_type": "stream",
     "text": [
      "C:\\Users\\jseij\\conda3\\lib\\site-packages\\transformers\\models\\marian\\tokenization_marian.py:194: UserWarning: Recommended: pip install sacremoses.\n",
      "  warnings.warn(\"Recommended: pip install sacremoses.\")\n"
     ]
    },
    {
     "name": "stdout",
     "output_type": "stream",
     "text": [
      "この 記憶 を する 人 に, あいさつ を 与え なさ い.\n"
     ]
    }
   ],
   "source": [
    "translator = pipeline(\"translation_en_to_ja\", model=\"Helsinki-NLP/opus-mt-en-jap\")\n",
    "outputs = translator(\"welcome to this introduction to transformers\", clean_up_tokenization_spaces=True)\n",
    "print(wrapper.fill(outputs[0]['translation_text']))"
   ]
  },
  {
   "cell_type": "code",
   "execution_count": 14,
   "id": "e1511bcb",
   "metadata": {},
   "outputs": [
    {
     "name": "stdout",
     "output_type": "stream",
     "text": [
      "Bienvenidos a esta introducción a los transformadores\n"
     ]
    }
   ],
   "source": [
    "translator = pipeline(\"translation_en_to_es\", model=\"Helsinki-NLP/opus-mt-en-es\")\n",
    "outputs = translator(\"welcome to this introduction to transformers\", clean_up_tokenization_spaces=True)\n",
    "print(wrapper.fill(outputs[0]['translation_text']))"
   ]
  },
  {
   "cell_type": "code",
   "execution_count": null,
   "id": "aa281d13",
   "metadata": {},
   "outputs": [],
   "source": []
  }
 ],
 "metadata": {
  "kernelspec": {
   "display_name": "Python 3 (ipykernel)",
   "language": "python",
   "name": "python3"
  },
  "language_info": {
   "codemirror_mode": {
    "name": "ipython",
    "version": 3
   },
   "file_extension": ".py",
   "mimetype": "text/x-python",
   "name": "python",
   "nbconvert_exporter": "python",
   "pygments_lexer": "ipython3",
   "version": "3.9.12"
  }
 },
 "nbformat": 4,
 "nbformat_minor": 5
}
