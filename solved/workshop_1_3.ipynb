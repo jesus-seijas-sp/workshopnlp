{
 "cells": [
  {
   "cell_type": "code",
   "execution_count": null,
   "id": "3983cd3d",
   "metadata": {},
   "outputs": [],
   "source": [
    "!pip install transformers\n",
    "!pip install sentencepiece"
   ]
  },
  {
   "cell_type": "code",
   "execution_count": 1,
   "id": "087af354",
   "metadata": {},
   "outputs": [],
   "source": [
    "from transformers import pipeline\n",
    "import textwrap\n",
    "import pprint"
   ]
  },
  {
   "cell_type": "code",
   "execution_count": 3,
   "id": "41b363a9",
   "metadata": {},
   "outputs": [],
   "source": [
    "zero_shot_classifier = pipeline(\"zero-shot-classification\", model=\"vicgalle/xlm-roberta-large-xnli-anli\")\n"
   ]
  },
  {
   "cell_type": "code",
   "execution_count": 4,
   "id": "8b8b996d",
   "metadata": {},
   "outputs": [
    {
     "data": {
      "text/plain": [
       "{'sequence': '東京のMLTワークショップで,トランスフォーマーについて紹介しました.',\n",
       " 'labels': ['Japan', 'USA', 'Switzerland'],\n",
       " 'scores': [0.835792601108551, 0.10802707821130753, 0.05618031322956085]}"
      ]
     },
     "execution_count": 4,
     "metadata": {},
     "output_type": "execute_result"
    }
   ],
   "source": [
    "zero_shot_classifier('東京のMLTワークショップで,トランスフォーマーについて紹介しました.', ['Japan', 'Switzerland', 'USA'])"
   ]
  },
  {
   "cell_type": "code",
   "execution_count": 5,
   "id": "0ce2afe2",
   "metadata": {},
   "outputs": [
    {
     "data": {
      "text/plain": [
       "{'sequence': 'Algún día iré a ver el mundo',\n",
       " 'labels': ['viaje', 'danza', 'cocina'],\n",
       " 'scores': [0.9991760849952698, 0.0004178200615569949, 0.0004059961356688291]}"
      ]
     },
     "execution_count": 5,
     "metadata": {},
     "output_type": "execute_result"
    }
   ],
   "source": [
    "zero_shot_classifier(\"Algún día iré a ver el mundo\", ['viaje', 'cocina', 'danza'])"
   ]
  },
  {
   "cell_type": "code",
   "execution_count": 6,
   "id": "356b1339",
   "metadata": {},
   "outputs": [
    {
     "data": {
      "text/plain": [
       "{'sequence': 'Algún día iré a ver el mundo',\n",
       " 'labels': ['travel', 'kitchen', 'dance'],\n",
       " 'scores': [0.9993433356285095, 0.0003618368355091661, 0.0002948723267763853]}"
      ]
     },
     "execution_count": 6,
     "metadata": {},
     "output_type": "execute_result"
    }
   ],
   "source": [
    "zero_shot_classifier(\"Algún día iré a ver el mundo\", ['kitchen', 'travel', 'dance'])"
   ]
  },
  {
   "cell_type": "code",
   "execution_count": null,
   "id": "4ed9a726",
   "metadata": {},
   "outputs": [],
   "source": []
  }
 ],
 "metadata": {
  "kernelspec": {
   "display_name": "Python 3 (ipykernel)",
   "language": "python",
   "name": "python3"
  },
  "language_info": {
   "codemirror_mode": {
    "name": "ipython",
    "version": 3
   },
   "file_extension": ".py",
   "mimetype": "text/x-python",
   "name": "python",
   "nbconvert_exporter": "python",
   "pygments_lexer": "ipython3",
   "version": "3.9.12"
  }
 },
 "nbformat": 4,
 "nbformat_minor": 5
}
