{
 "cells": [
  {
   "cell_type": "code",
   "execution_count": null,
   "id": "3983cd3d",
   "metadata": {},
   "outputs": [],
   "source": [
    "!pip install transformers\n",
    "!pip install sentencepiece"
   ]
  },
  {
   "cell_type": "code",
   "execution_count": null,
   "id": "087af354",
   "metadata": {},
   "outputs": [],
   "source": [
    "from transformers import pipeline"
   ]
  },
  {
   "cell_type": "code",
   "execution_count": null,
   "id": "41b363a9",
   "metadata": {},
   "outputs": [],
   "source": [
    "# Create pipeline, model = \"vicgalle/xlm-roberta-large-xnli-anli\"\n",
    "zero_shot_classifier = pipeline(\"zero-shot-classification\", model=\"vicgalle/xlm-roberta-large-xnli-anli\")\n",
    "sentence = \"東京のShiseidoワークショップで,トランスフォーマーについて紹介しました.\""
   ]
  },
  {
   "cell_type": "code",
   "execution_count": null,
   "id": "0ce2afe2",
   "metadata": {},
   "outputs": [],
   "source": [
    "# \"Algún día iré a ver el mundo\", ['viaje', 'cocina', 'danza'])"
   ]
  },
  {
   "cell_type": "code",
   "execution_count": null,
   "id": "356b1339",
   "metadata": {},
   "outputs": [],
   "source": [
    "# \"Algún día iré a ver el mundo\", ['kitchen', 'travel', 'dance'])"
   ]
  }
 ],
 "metadata": {
  "kernelspec": {
   "display_name": "Python 3 (ipykernel)",
   "language": "python",
   "name": "python3"
  },
  "language_info": {
   "codemirror_mode": {
    "name": "ipython",
    "version": 3
   },
   "file_extension": ".py",
   "mimetype": "text/x-python",
   "name": "python",
   "nbconvert_exporter": "python",
   "pygments_lexer": "ipython3",
   "version": "3.9.12"
  }
 },
 "nbformat": 4,
 "nbformat_minor": 5
}
